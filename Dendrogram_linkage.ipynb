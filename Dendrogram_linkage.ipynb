{
  "nbformat": 4,
  "nbformat_minor": 0,
  "metadata": {
    "colab": {
      "provenance": [],
      "authorship_tag": "ABX9TyMcNO2yUmh/RFX/M4tqhRYy",
      "include_colab_link": true
    },
    "kernelspec": {
      "name": "python3",
      "display_name": "Python 3"
    },
    "language_info": {
      "name": "python"
    }
  },
  "cells": [
    {
      "cell_type": "markdown",
      "metadata": {
        "id": "view-in-github",
        "colab_type": "text"
      },
      "source": [
        "<a href=\"https://colab.research.google.com/github/NandhanaRameshkumar/Dendrogram_linkage/blob/main/Dendrogram_linkage.ipynb\" target=\"_parent\"><img src=\"https://colab.research.google.com/assets/colab-badge.svg\" alt=\"Open In Colab\"/></a>"
      ]
    },
    {
      "cell_type": "code",
      "execution_count": null,
      "metadata": {
        "id": "BePFV0-xpKYW"
      },
      "outputs": [],
      "source": [
        "import pandas as pd\n",
        "from scipy.cluster.hierarchy import dendrogram, linkage\n",
        "from sklearn.preprocessing import OneHotEncoder\n",
        "import matplotlib.pyplot as plt  # Import for plotting\n",
        "from tqdm import tqdm  # Import for progress bar"
      ]
    },
    {
      "cell_type": "code",
      "source": [
        "data = pd.read_csv('IPL_Ball_by_Ball_2008_2022.csv')"
      ],
      "metadata": {
        "id": "QOzZBzqZqMDd"
      },
      "execution_count": null,
      "outputs": []
    },
    {
      "cell_type": "code",
      "source": [
        "print(data.columns.tolist())"
      ],
      "metadata": {
        "colab": {
          "base_uri": "https://localhost:8080/"
        },
        "id": "1uGFVwUhsoQy",
        "outputId": "d119421f-aa46-4187-c815-3dbf7010753a"
      },
      "execution_count": null,
      "outputs": [
        {
          "output_type": "stream",
          "name": "stdout",
          "text": [
            "['ID', 'innings', 'overs', 'ballnumber', 'batter', 'bowler', 'non-striker', 'extra_type', 'batsman_run', 'extras_run', 'total_run', 'non_boundary', 'isWicketDelivery', 'player_out', 'kind', 'fielders_involved', 'BattingTeam']\n"
          ]
        }
      ]
    },
    {
      "cell_type": "code",
      "source": [
        "# Select relevant features for clustering\n",
        "features = ['batsman_run', 'extras_run', 'total_run', 'non_boundary', 'isWicketDelivery']"
      ],
      "metadata": {
        "id": "L-_LMKCosTSS"
      },
      "execution_count": null,
      "outputs": []
    },
    {
      "cell_type": "code",
      "source": [
        "# Check data type of 'isWicketDelivery' (optional)\n",
        "print(data['isWicketDelivery'].dtype)  # Check if it's already numerical"
      ],
      "metadata": {
        "colab": {
          "base_uri": "https://localhost:8080/"
        },
        "id": "5NibnoCK4t_I",
        "outputId": "f36d55f7-73ea-4de6-fea0-b3ad6abd1764"
      },
      "execution_count": null,
      "outputs": [
        {
          "output_type": "stream",
          "name": "stdout",
          "text": [
            "int64\n"
          ]
        }
      ]
    },
    {
      "cell_type": "code",
      "source": [
        "# One-hot encoding (if necessary)\n",
        "categorical_feature = ['isWicketDelivery']  # Assuming 'isWicketDelivery' is categorical\n",
        "if pd.api.types.is_string_dtype(data[categorical_feature]):  # Check if string type\n",
        "    encoder = OneHotEncoder(sparse=False)  # Consider sparse=True for large datasets\n",
        "    data[categorical_feature] = encoder.fit_transform(data[categorical_feature])"
      ],
      "metadata": {
        "id": "1Of7ZUqCw-6I"
      },
      "execution_count": null,
      "outputs": []
    },
    {
      "cell_type": "code",
      "source": [
        "# Select data for clustering\n",
        "X = data[features]"
      ],
      "metadata": {
        "id": "cRt0JAswuZ2h"
      },
      "execution_count": null,
      "outputs": []
    },
    {
      "cell_type": "code",
      "source": [
        "# Choose distance metric (consider data types)\n",
        "# Options: 'euclidean', 'manhattan', 'cosine' (for normalized data)\n",
        "distance_metric = 'euclidean'"
      ],
      "metadata": {
        "id": "5R_QYEHHum_P"
      },
      "execution_count": null,
      "outputs": []
    },
    {
      "cell_type": "code",
      "source": [
        "from tqdm import tqdm\n",
        "from scipy.spatial.distance import pdist"
      ],
      "metadata": {
        "id": "OPqzm-Ga6IRk"
      },
      "execution_count": null,
      "outputs": []
    },
    {
      "cell_type": "code",
      "source": [
        "!pip install scipy\n",
        "import numpy as np\n",
        "from scipy.spatial.distance import pdist\n",
        "\n",
        "def calculate_distance_matrix(X, metric):\n",
        "    distance_matrix = []\n",
        "    features = range(X.shape[1])\n",
        "    for i in features:\n",
        "        for j in features:\n",
        "            if i != j:\n",
        "                # Combine data points into a single argument\n",
        "                data_point = np.array([X[i], X[j]])\n",
        "                # Pass only the combined data point and metric\n",
        "                distance_matrix.append(pdist(data_point, metric))\n",
        "    return np.asarray(distance_matrix)"
      ],
      "metadata": {
        "colab": {
          "base_uri": "https://localhost:8080/"
        },
        "id": "2gcLO9XPu6ue",
        "outputId": "1de4c378-0c55-4b64-f2b5-266498db5e82"
      },
      "execution_count": null,
      "outputs": [
        {
          "output_type": "stream",
          "name": "stdout",
          "text": [
            "Requirement already satisfied: scipy in /usr/local/lib/python3.10/dist-packages (1.11.4)\n",
            "Requirement already satisfied: numpy<1.28.0,>=1.21.6 in /usr/local/lib/python3.10/dist-packages (from scipy) (1.25.2)\n"
          ]
        }
      ]
    },
    {
      "cell_type": "code",
      "source": [
        "!pip install scipy\n",
        "import scipy.spatial.distance as distance"
      ],
      "metadata": {
        "colab": {
          "base_uri": "https://localhost:8080/"
        },
        "id": "J--HRkDe98gL",
        "outputId": "fcbeea6f-8fca-44f2-848b-27174dbea8a5"
      },
      "execution_count": null,
      "outputs": [
        {
          "output_type": "stream",
          "name": "stdout",
          "text": [
            "Requirement already satisfied: scipy in /usr/local/lib/python3.10/dist-packages (1.11.4)\n",
            "Requirement already satisfied: numpy<1.28.0,>=1.21.6 in /usr/local/lib/python3.10/dist-packages (from scipy) (1.25.2)\n"
          ]
        }
      ]
    },
    {
      "cell_type": "code",
      "source": [
        "import numpy as np\n",
        "# Define the data points (replace with your actual data)\n",
        "X = np.array([[1, 2], [3, 4], [5, 6]])\n",
        "\n",
        "# Define the distance metric (replace with your desired metric)\n",
        "distance_metric = 'euclidean'\n",
        "\n",
        "# Calculate the distance matrix\n",
        "distance_matrix = distance.cdist(X, X, metric=distance_metric)\n",
        "\n",
        "# Perform hierarchical clustering (Ward's method)\n",
        "Z = linkage(distance_matrix, method='ward')\n"
      ],
      "metadata": {
        "colab": {
          "base_uri": "https://localhost:8080/"
        },
        "id": "Il9uo0W70gaW",
        "outputId": "40a775fb-7024-4bb2-81af-c4ce804eae42"
      },
      "execution_count": null,
      "outputs": [
        {
          "output_type": "stream",
          "name": "stderr",
          "text": [
            "<ipython-input-25-f6af1f6e92c7>:12: ClusterWarning: scipy.cluster: The symmetric non-negative hollow observation matrix looks suspiciously like an uncondensed distance matrix\n",
            "  Z = linkage(distance_matrix, method='ward')\n"
          ]
        }
      ]
    },
    {
      "cell_type": "code",
      "source": [
        "import matplotlib.pyplot as plt\n",
        "from scipy.cluster.hierarchy import dendrogram, linkage\n",
        "print(Z)"
      ],
      "metadata": {
        "colab": {
          "base_uri": "https://localhost:8080/"
        },
        "id": "9XiRJy3i-eK9",
        "outputId": "255063ee-99c1-4ba3-8d7e-27f7b7dead14"
      },
      "execution_count": null,
      "outputs": [
        {
          "output_type": "stream",
          "name": "stdout",
          "text": [
            "[[0.         1.         4.89897949 2.        ]\n",
            " [2.         3.         7.11805217 3.        ]]\n"
          ]
        }
      ]
    },
    {
      "cell_type": "code",
      "source": [
        "print(data.head())"
      ],
      "metadata": {
        "colab": {
          "base_uri": "https://localhost:8080/"
        },
        "id": "wyIGmcwX-lRw",
        "outputId": "97d303c4-9c2a-43dd-99e5-3681a4fb0212"
      },
      "execution_count": null,
      "outputs": [
        {
          "output_type": "stream",
          "name": "stdout",
          "text": [
            "        ID  innings  overs  ballnumber       batter          bowler  \\\n",
            "0  1312200        1      0           1  YBK Jaiswal  Mohammed Shami   \n",
            "1  1312200        1      0           2  YBK Jaiswal  Mohammed Shami   \n",
            "2  1312200        1      0           3   JC Buttler  Mohammed Shami   \n",
            "3  1312200        1      0           4  YBK Jaiswal  Mohammed Shami   \n",
            "4  1312200        1      0           5  YBK Jaiswal  Mohammed Shami   \n",
            "\n",
            "   non-striker extra_type  batsman_run  extras_run  total_run  non_boundary  \\\n",
            "0   JC Buttler        NaN            0           0          0             0   \n",
            "1   JC Buttler    legbyes            0           1          1             0   \n",
            "2  YBK Jaiswal        NaN            1           0          1             0   \n",
            "3   JC Buttler        NaN            0           0          0             0   \n",
            "4   JC Buttler        NaN            0           0          0             0   \n",
            "\n",
            "   isWicketDelivery player_out kind fielders_involved       BattingTeam  \n",
            "0                 0        NaN  NaN               NaN  Rajasthan Royals  \n",
            "1                 0        NaN  NaN               NaN  Rajasthan Royals  \n",
            "2                 0        NaN  NaN               NaN  Rajasthan Royals  \n",
            "3                 0        NaN  NaN               NaN  Rajasthan Royals  \n",
            "4                 0        NaN  NaN               NaN  Rajasthan Royals  \n"
          ]
        }
      ]
    },
    {
      "cell_type": "code",
      "source": [
        "print(Z.shape)\n",
        "print(data['BattingTeam'].shape)"
      ],
      "metadata": {
        "colab": {
          "base_uri": "https://localhost:8080/"
        },
        "id": "E3pyH8-t-1dT",
        "outputId": "2bc4003f-79b2-4307-82e0-21afaf3d1238"
      },
      "execution_count": null,
      "outputs": [
        {
          "output_type": "stream",
          "name": "stdout",
          "text": [
            "(2, 4)\n",
            "(225954,)\n"
          ]
        }
      ]
    },
    {
      "cell_type": "code",
      "source": [
        "print(Z.shape[0])\n",
        "print(data['BattingTeam'].shape[0])"
      ],
      "metadata": {
        "colab": {
          "base_uri": "https://localhost:8080/"
        },
        "id": "_YMNJakO_x0F",
        "outputId": "9b8a8ff4-a65a-43ad-9a48-f1e5f01c5057"
      },
      "execution_count": null,
      "outputs": [
        {
          "output_type": "stream",
          "name": "stdout",
          "text": [
            "2\n",
            "225954\n"
          ]
        }
      ]
    },
    {
      "cell_type": "code",
      "source": [
        "# Check if there are any missing values in data['BattingTeam']\n",
        "missing_values = data['BattingTeam'].isnull().sum()\n",
        "if missing_values > 0:\n",
        "    print(\"There are missing values in data['BattingTeam'].\")"
      ],
      "metadata": {
        "id": "H0YL_2bN_K0E"
      },
      "execution_count": null,
      "outputs": []
    },
    {
      "cell_type": "code",
      "source": [
        "import pandas as pd\n",
        "import numpy as np"
      ],
      "metadata": {
        "id": "M1ApY2EWAIFL"
      },
      "execution_count": null,
      "outputs": []
    },
    {
      "cell_type": "code",
      "source": [
        "data.head()"
      ],
      "metadata": {
        "colab": {
          "base_uri": "https://localhost:8080/",
          "height": 330
        },
        "id": "w14i0V1FADhB",
        "outputId": "f53aa06c-ed7b-4f9f-e1d9-0d21bff7173b"
      },
      "execution_count": null,
      "outputs": [
        {
          "output_type": "execute_result",
          "data": {
            "text/plain": [
              "        ID  innings  overs  ballnumber       batter          bowler  \\\n",
              "0  1312200        1      0           1  YBK Jaiswal  Mohammed Shami   \n",
              "1  1312200        1      0           2  YBK Jaiswal  Mohammed Shami   \n",
              "2  1312200        1      0           3   JC Buttler  Mohammed Shami   \n",
              "3  1312200        1      0           4  YBK Jaiswal  Mohammed Shami   \n",
              "4  1312200        1      0           5  YBK Jaiswal  Mohammed Shami   \n",
              "\n",
              "   non-striker extra_type  batsman_run  extras_run  total_run  non_boundary  \\\n",
              "0   JC Buttler        NaN            0           0          0             0   \n",
              "1   JC Buttler    legbyes            0           1          1             0   \n",
              "2  YBK Jaiswal        NaN            1           0          1             0   \n",
              "3   JC Buttler        NaN            0           0          0             0   \n",
              "4   JC Buttler        NaN            0           0          0             0   \n",
              "\n",
              "   isWicketDelivery player_out kind fielders_involved       BattingTeam  \n",
              "0                 0        NaN  NaN               NaN  Rajasthan Royals  \n",
              "1                 0        NaN  NaN               NaN  Rajasthan Royals  \n",
              "2                 0        NaN  NaN               NaN  Rajasthan Royals  \n",
              "3                 0        NaN  NaN               NaN  Rajasthan Royals  \n",
              "4                 0        NaN  NaN               NaN  Rajasthan Royals  "
            ],
            "text/html": [
              "\n",
              "  <div id=\"df-0a5afb5f-f871-4ee5-974d-ec3a557db427\" class=\"colab-df-container\">\n",
              "    <div>\n",
              "<style scoped>\n",
              "    .dataframe tbody tr th:only-of-type {\n",
              "        vertical-align: middle;\n",
              "    }\n",
              "\n",
              "    .dataframe tbody tr th {\n",
              "        vertical-align: top;\n",
              "    }\n",
              "\n",
              "    .dataframe thead th {\n",
              "        text-align: right;\n",
              "    }\n",
              "</style>\n",
              "<table border=\"1\" class=\"dataframe\">\n",
              "  <thead>\n",
              "    <tr style=\"text-align: right;\">\n",
              "      <th></th>\n",
              "      <th>ID</th>\n",
              "      <th>innings</th>\n",
              "      <th>overs</th>\n",
              "      <th>ballnumber</th>\n",
              "      <th>batter</th>\n",
              "      <th>bowler</th>\n",
              "      <th>non-striker</th>\n",
              "      <th>extra_type</th>\n",
              "      <th>batsman_run</th>\n",
              "      <th>extras_run</th>\n",
              "      <th>total_run</th>\n",
              "      <th>non_boundary</th>\n",
              "      <th>isWicketDelivery</th>\n",
              "      <th>player_out</th>\n",
              "      <th>kind</th>\n",
              "      <th>fielders_involved</th>\n",
              "      <th>BattingTeam</th>\n",
              "    </tr>\n",
              "  </thead>\n",
              "  <tbody>\n",
              "    <tr>\n",
              "      <th>0</th>\n",
              "      <td>1312200</td>\n",
              "      <td>1</td>\n",
              "      <td>0</td>\n",
              "      <td>1</td>\n",
              "      <td>YBK Jaiswal</td>\n",
              "      <td>Mohammed Shami</td>\n",
              "      <td>JC Buttler</td>\n",
              "      <td>NaN</td>\n",
              "      <td>0</td>\n",
              "      <td>0</td>\n",
              "      <td>0</td>\n",
              "      <td>0</td>\n",
              "      <td>0</td>\n",
              "      <td>NaN</td>\n",
              "      <td>NaN</td>\n",
              "      <td>NaN</td>\n",
              "      <td>Rajasthan Royals</td>\n",
              "    </tr>\n",
              "    <tr>\n",
              "      <th>1</th>\n",
              "      <td>1312200</td>\n",
              "      <td>1</td>\n",
              "      <td>0</td>\n",
              "      <td>2</td>\n",
              "      <td>YBK Jaiswal</td>\n",
              "      <td>Mohammed Shami</td>\n",
              "      <td>JC Buttler</td>\n",
              "      <td>legbyes</td>\n",
              "      <td>0</td>\n",
              "      <td>1</td>\n",
              "      <td>1</td>\n",
              "      <td>0</td>\n",
              "      <td>0</td>\n",
              "      <td>NaN</td>\n",
              "      <td>NaN</td>\n",
              "      <td>NaN</td>\n",
              "      <td>Rajasthan Royals</td>\n",
              "    </tr>\n",
              "    <tr>\n",
              "      <th>2</th>\n",
              "      <td>1312200</td>\n",
              "      <td>1</td>\n",
              "      <td>0</td>\n",
              "      <td>3</td>\n",
              "      <td>JC Buttler</td>\n",
              "      <td>Mohammed Shami</td>\n",
              "      <td>YBK Jaiswal</td>\n",
              "      <td>NaN</td>\n",
              "      <td>1</td>\n",
              "      <td>0</td>\n",
              "      <td>1</td>\n",
              "      <td>0</td>\n",
              "      <td>0</td>\n",
              "      <td>NaN</td>\n",
              "      <td>NaN</td>\n",
              "      <td>NaN</td>\n",
              "      <td>Rajasthan Royals</td>\n",
              "    </tr>\n",
              "    <tr>\n",
              "      <th>3</th>\n",
              "      <td>1312200</td>\n",
              "      <td>1</td>\n",
              "      <td>0</td>\n",
              "      <td>4</td>\n",
              "      <td>YBK Jaiswal</td>\n",
              "      <td>Mohammed Shami</td>\n",
              "      <td>JC Buttler</td>\n",
              "      <td>NaN</td>\n",
              "      <td>0</td>\n",
              "      <td>0</td>\n",
              "      <td>0</td>\n",
              "      <td>0</td>\n",
              "      <td>0</td>\n",
              "      <td>NaN</td>\n",
              "      <td>NaN</td>\n",
              "      <td>NaN</td>\n",
              "      <td>Rajasthan Royals</td>\n",
              "    </tr>\n",
              "    <tr>\n",
              "      <th>4</th>\n",
              "      <td>1312200</td>\n",
              "      <td>1</td>\n",
              "      <td>0</td>\n",
              "      <td>5</td>\n",
              "      <td>YBK Jaiswal</td>\n",
              "      <td>Mohammed Shami</td>\n",
              "      <td>JC Buttler</td>\n",
              "      <td>NaN</td>\n",
              "      <td>0</td>\n",
              "      <td>0</td>\n",
              "      <td>0</td>\n",
              "      <td>0</td>\n",
              "      <td>0</td>\n",
              "      <td>NaN</td>\n",
              "      <td>NaN</td>\n",
              "      <td>NaN</td>\n",
              "      <td>Rajasthan Royals</td>\n",
              "    </tr>\n",
              "  </tbody>\n",
              "</table>\n",
              "</div>\n",
              "    <div class=\"colab-df-buttons\">\n",
              "\n",
              "  <div class=\"colab-df-container\">\n",
              "    <button class=\"colab-df-convert\" onclick=\"convertToInteractive('df-0a5afb5f-f871-4ee5-974d-ec3a557db427')\"\n",
              "            title=\"Convert this dataframe to an interactive table.\"\n",
              "            style=\"display:none;\">\n",
              "\n",
              "  <svg xmlns=\"http://www.w3.org/2000/svg\" height=\"24px\" viewBox=\"0 -960 960 960\">\n",
              "    <path d=\"M120-120v-720h720v720H120Zm60-500h600v-160H180v160Zm220 220h160v-160H400v160Zm0 220h160v-160H400v160ZM180-400h160v-160H180v160Zm440 0h160v-160H620v160ZM180-180h160v-160H180v160Zm440 0h160v-160H620v160Z\"/>\n",
              "  </svg>\n",
              "    </button>\n",
              "\n",
              "  <style>\n",
              "    .colab-df-container {\n",
              "      display:flex;\n",
              "      gap: 12px;\n",
              "    }\n",
              "\n",
              "    .colab-df-convert {\n",
              "      background-color: #E8F0FE;\n",
              "      border: none;\n",
              "      border-radius: 50%;\n",
              "      cursor: pointer;\n",
              "      display: none;\n",
              "      fill: #1967D2;\n",
              "      height: 32px;\n",
              "      padding: 0 0 0 0;\n",
              "      width: 32px;\n",
              "    }\n",
              "\n",
              "    .colab-df-convert:hover {\n",
              "      background-color: #E2EBFA;\n",
              "      box-shadow: 0px 1px 2px rgba(60, 64, 67, 0.3), 0px 1px 3px 1px rgba(60, 64, 67, 0.15);\n",
              "      fill: #174EA6;\n",
              "    }\n",
              "\n",
              "    .colab-df-buttons div {\n",
              "      margin-bottom: 4px;\n",
              "    }\n",
              "\n",
              "    [theme=dark] .colab-df-convert {\n",
              "      background-color: #3B4455;\n",
              "      fill: #D2E3FC;\n",
              "    }\n",
              "\n",
              "    [theme=dark] .colab-df-convert:hover {\n",
              "      background-color: #434B5C;\n",
              "      box-shadow: 0px 1px 3px 1px rgba(0, 0, 0, 0.15);\n",
              "      filter: drop-shadow(0px 1px 2px rgba(0, 0, 0, 0.3));\n",
              "      fill: #FFFFFF;\n",
              "    }\n",
              "  </style>\n",
              "\n",
              "    <script>\n",
              "      const buttonEl =\n",
              "        document.querySelector('#df-0a5afb5f-f871-4ee5-974d-ec3a557db427 button.colab-df-convert');\n",
              "      buttonEl.style.display =\n",
              "        google.colab.kernel.accessAllowed ? 'block' : 'none';\n",
              "\n",
              "      async function convertToInteractive(key) {\n",
              "        const element = document.querySelector('#df-0a5afb5f-f871-4ee5-974d-ec3a557db427');\n",
              "        const dataTable =\n",
              "          await google.colab.kernel.invokeFunction('convertToInteractive',\n",
              "                                                    [key], {});\n",
              "        if (!dataTable) return;\n",
              "\n",
              "        const docLinkHtml = 'Like what you see? Visit the ' +\n",
              "          '<a target=\"_blank\" href=https://colab.research.google.com/notebooks/data_table.ipynb>data table notebook</a>'\n",
              "          + ' to learn more about interactive tables.';\n",
              "        element.innerHTML = '';\n",
              "        dataTable['output_type'] = 'display_data';\n",
              "        await google.colab.output.renderOutput(dataTable, element);\n",
              "        const docLink = document.createElement('div');\n",
              "        docLink.innerHTML = docLinkHtml;\n",
              "        element.appendChild(docLink);\n",
              "      }\n",
              "    </script>\n",
              "  </div>\n",
              "\n",
              "\n",
              "<div id=\"df-9ff8bb37-105e-4796-b7f1-2c8d2991397d\">\n",
              "  <button class=\"colab-df-quickchart\" onclick=\"quickchart('df-9ff8bb37-105e-4796-b7f1-2c8d2991397d')\"\n",
              "            title=\"Suggest charts\"\n",
              "            style=\"display:none;\">\n",
              "\n",
              "<svg xmlns=\"http://www.w3.org/2000/svg\" height=\"24px\"viewBox=\"0 0 24 24\"\n",
              "     width=\"24px\">\n",
              "    <g>\n",
              "        <path d=\"M19 3H5c-1.1 0-2 .9-2 2v14c0 1.1.9 2 2 2h14c1.1 0 2-.9 2-2V5c0-1.1-.9-2-2-2zM9 17H7v-7h2v7zm4 0h-2V7h2v10zm4 0h-2v-4h2v4z\"/>\n",
              "    </g>\n",
              "</svg>\n",
              "  </button>\n",
              "\n",
              "<style>\n",
              "  .colab-df-quickchart {\n",
              "      --bg-color: #E8F0FE;\n",
              "      --fill-color: #1967D2;\n",
              "      --hover-bg-color: #E2EBFA;\n",
              "      --hover-fill-color: #174EA6;\n",
              "      --disabled-fill-color: #AAA;\n",
              "      --disabled-bg-color: #DDD;\n",
              "  }\n",
              "\n",
              "  [theme=dark] .colab-df-quickchart {\n",
              "      --bg-color: #3B4455;\n",
              "      --fill-color: #D2E3FC;\n",
              "      --hover-bg-color: #434B5C;\n",
              "      --hover-fill-color: #FFFFFF;\n",
              "      --disabled-bg-color: #3B4455;\n",
              "      --disabled-fill-color: #666;\n",
              "  }\n",
              "\n",
              "  .colab-df-quickchart {\n",
              "    background-color: var(--bg-color);\n",
              "    border: none;\n",
              "    border-radius: 50%;\n",
              "    cursor: pointer;\n",
              "    display: none;\n",
              "    fill: var(--fill-color);\n",
              "    height: 32px;\n",
              "    padding: 0;\n",
              "    width: 32px;\n",
              "  }\n",
              "\n",
              "  .colab-df-quickchart:hover {\n",
              "    background-color: var(--hover-bg-color);\n",
              "    box-shadow: 0 1px 2px rgba(60, 64, 67, 0.3), 0 1px 3px 1px rgba(60, 64, 67, 0.15);\n",
              "    fill: var(--button-hover-fill-color);\n",
              "  }\n",
              "\n",
              "  .colab-df-quickchart-complete:disabled,\n",
              "  .colab-df-quickchart-complete:disabled:hover {\n",
              "    background-color: var(--disabled-bg-color);\n",
              "    fill: var(--disabled-fill-color);\n",
              "    box-shadow: none;\n",
              "  }\n",
              "\n",
              "  .colab-df-spinner {\n",
              "    border: 2px solid var(--fill-color);\n",
              "    border-color: transparent;\n",
              "    border-bottom-color: var(--fill-color);\n",
              "    animation:\n",
              "      spin 1s steps(1) infinite;\n",
              "  }\n",
              "\n",
              "  @keyframes spin {\n",
              "    0% {\n",
              "      border-color: transparent;\n",
              "      border-bottom-color: var(--fill-color);\n",
              "      border-left-color: var(--fill-color);\n",
              "    }\n",
              "    20% {\n",
              "      border-color: transparent;\n",
              "      border-left-color: var(--fill-color);\n",
              "      border-top-color: var(--fill-color);\n",
              "    }\n",
              "    30% {\n",
              "      border-color: transparent;\n",
              "      border-left-color: var(--fill-color);\n",
              "      border-top-color: var(--fill-color);\n",
              "      border-right-color: var(--fill-color);\n",
              "    }\n",
              "    40% {\n",
              "      border-color: transparent;\n",
              "      border-right-color: var(--fill-color);\n",
              "      border-top-color: var(--fill-color);\n",
              "    }\n",
              "    60% {\n",
              "      border-color: transparent;\n",
              "      border-right-color: var(--fill-color);\n",
              "    }\n",
              "    80% {\n",
              "      border-color: transparent;\n",
              "      border-right-color: var(--fill-color);\n",
              "      border-bottom-color: var(--fill-color);\n",
              "    }\n",
              "    90% {\n",
              "      border-color: transparent;\n",
              "      border-bottom-color: var(--fill-color);\n",
              "    }\n",
              "  }\n",
              "</style>\n",
              "\n",
              "  <script>\n",
              "    async function quickchart(key) {\n",
              "      const quickchartButtonEl =\n",
              "        document.querySelector('#' + key + ' button');\n",
              "      quickchartButtonEl.disabled = true;  // To prevent multiple clicks.\n",
              "      quickchartButtonEl.classList.add('colab-df-spinner');\n",
              "      try {\n",
              "        const charts = await google.colab.kernel.invokeFunction(\n",
              "            'suggestCharts', [key], {});\n",
              "      } catch (error) {\n",
              "        console.error('Error during call to suggestCharts:', error);\n",
              "      }\n",
              "      quickchartButtonEl.classList.remove('colab-df-spinner');\n",
              "      quickchartButtonEl.classList.add('colab-df-quickchart-complete');\n",
              "    }\n",
              "    (() => {\n",
              "      let quickchartButtonEl =\n",
              "        document.querySelector('#df-9ff8bb37-105e-4796-b7f1-2c8d2991397d button');\n",
              "      quickchartButtonEl.style.display =\n",
              "        google.colab.kernel.accessAllowed ? 'block' : 'none';\n",
              "    })();\n",
              "  </script>\n",
              "</div>\n",
              "\n",
              "    </div>\n",
              "  </div>\n"
            ],
            "application/vnd.google.colaboratory.intrinsic+json": {
              "type": "dataframe",
              "variable_name": "data"
            }
          },
          "metadata": {},
          "execution_count": 40
        }
      ]
    },
    {
      "cell_type": "code",
      "source": [
        "'Cluster' in data.columns"
      ],
      "metadata": {
        "colab": {
          "base_uri": "https://localhost:8080/"
        },
        "id": "Lex6BdRWACnE",
        "outputId": "34b31cde-e9a7-4e7c-f301-b6d2f72e945b"
      },
      "execution_count": null,
      "outputs": [
        {
          "output_type": "execute_result",
          "data": {
            "text/plain": [
              "False"
            ]
          },
          "metadata": {},
          "execution_count": 41
        }
      ]
    },
    {
      "cell_type": "code",
      "source": [
        "import pandas as pd\n",
        "import matplotlib.pyplot as plt\n",
        "from scipy.cluster.hierarchy import dendrogram"
      ],
      "metadata": {
        "id": "4HBLNb_DAaF_"
      },
      "execution_count": null,
      "outputs": []
    },
    {
      "cell_type": "code",
      "source": [
        "print(Z.shape)\n",
        "print(data['BattingTeam'].shape)"
      ],
      "metadata": {
        "colab": {
          "base_uri": "https://localhost:8080/"
        },
        "id": "a1pMGsNyAeMo",
        "outputId": "c976082f-8bb3-4dfe-e21f-8a137aaf5702"
      },
      "execution_count": null,
      "outputs": [
        {
          "output_type": "stream",
          "name": "stdout",
          "text": [
            "(2, 4)\n",
            "(225954,)\n"
          ]
        }
      ]
    },
    {
      "cell_type": "code",
      "source": [
        "print(data.head())"
      ],
      "metadata": {
        "colab": {
          "base_uri": "https://localhost:8080/"
        },
        "id": "EjuvD3oiBBOD",
        "outputId": "6d43b612-051a-4509-fa4c-6d90690198b5"
      },
      "execution_count": null,
      "outputs": [
        {
          "output_type": "stream",
          "name": "stdout",
          "text": [
            "        ID  innings  overs  ballnumber       batter          bowler  \\\n",
            "0  1312200        1      0           1  YBK Jaiswal  Mohammed Shami   \n",
            "1  1312200        1      0           2  YBK Jaiswal  Mohammed Shami   \n",
            "2  1312200        1      0           3   JC Buttler  Mohammed Shami   \n",
            "3  1312200        1      0           4  YBK Jaiswal  Mohammed Shami   \n",
            "4  1312200        1      0           5  YBK Jaiswal  Mohammed Shami   \n",
            "\n",
            "   non-striker extra_type  batsman_run  extras_run  total_run  non_boundary  \\\n",
            "0   JC Buttler        NaN            0           0          0             0   \n",
            "1   JC Buttler    legbyes            0           1          1             0   \n",
            "2  YBK Jaiswal        NaN            1           0          1             0   \n",
            "3   JC Buttler        NaN            0           0          0             0   \n",
            "4   JC Buttler        NaN            0           0          0             0   \n",
            "\n",
            "   isWicketDelivery player_out kind fielders_involved       BattingTeam  \n",
            "0                 0        NaN  NaN               NaN  Rajasthan Royals  \n",
            "1                 0        NaN  NaN               NaN  Rajasthan Royals  \n",
            "2                 0        NaN  NaN               NaN  Rajasthan Royals  \n",
            "3                 0        NaN  NaN               NaN  Rajasthan Royals  \n",
            "4                 0        NaN  NaN               NaN  Rajasthan Royals  \n"
          ]
        }
      ]
    },
    {
      "cell_type": "code",
      "source": [
        "print(f\"Shape of Z: {Z.shape}\")\n",
        "print(f\"Shape of labels: {data['BattingTeam'][:-1].shape}\")"
      ],
      "metadata": {
        "colab": {
          "base_uri": "https://localhost:8080/"
        },
        "id": "pWpv7P8YBPF6",
        "outputId": "80127805-146b-48f0-cc8f-e9437c8c03a5"
      },
      "execution_count": null,
      "outputs": [
        {
          "output_type": "stream",
          "name": "stdout",
          "text": [
            "Shape of Z: (2, 4)\n",
            "Shape of labels: (225953,)\n"
          ]
        }
      ]
    },
    {
      "cell_type": "code",
      "source": [
        "# Assuming you have the distance matrix ('distance_matrix') and linkage matrix ('Z') calculated\n",
        "\n",
        "# Check if distance_matrix and Z are not empty\n",
        "if distance_matrix.size > 0 and Z.size > 0:\n",
        "\n",
        "  # Ensure data['BattingTeam'] has the same length as the number of data points\n",
        "  if len(data) == Z.shape[0]:  # Check data length vs. linkage matrix size\n",
        "    plt.figure(figsize=(10, 6))\n",
        "    dendrogram(Z, labels=data['BattingTeam'])  # Assuming 'BattingTeam' is the team name column\n",
        "    plt.title('IPL Match Clustering (Ward\\'s Method)')\n",
        "    plt.show()\n",
        "  else:\n",
        "    print(\"Error: Data size and linkage matrix size don't match. Check data selection.\")\n",
        "else:\n",
        "  print(\"Error: Distance matrix or linkage matrix is empty. Check data and calculations.\")\n"
      ],
      "metadata": {
        "colab": {
          "base_uri": "https://localhost:8080/"
        },
        "id": "JwHA8cZmAhHo",
        "outputId": "a32004f8-6fcf-4ce6-f7e8-0f0fe2bc4a26"
      },
      "execution_count": null,
      "outputs": [
        {
          "output_type": "stream",
          "name": "stdout",
          "text": [
            "Error: Data size and linkage matrix size don't match. Check data selection.\n"
          ]
        }
      ]
    }
  ]
}